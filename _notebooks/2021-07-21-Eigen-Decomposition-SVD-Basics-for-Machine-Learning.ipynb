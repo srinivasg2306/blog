{
 "cells": [
  {
   "cell_type": "markdown",
   "id": "purple-thesaurus",
   "metadata": {},
   "source": [
    "# Matrix Factorization Method for Machine Learning Problems\n"
   ]
  },
  {
   "cell_type": "markdown",
   "id": "continental-nature",
   "metadata": {},
   "source": [
    "### Concept of Vectors and Matrices\n",
    "\n",
    "Mathematically, A vector is represented by a single dimension array of numbers. Example: V = [25, 3, 46, 30, 33]. This makes no sense to a Machine Learning practitioner until it can be related to something real. Let us say the numbers represents certain data of an individual - Age, years of Work experience, Annual Salary(in 000 USD), Average Expenses per year (in 000 USD), % of Annual salary saved per year. If such data are collected for multiple individuals and stacked up one over the other, then we have an array of vectors which is called a *Matrix*. \n",
    "\n",
    "From a Linear Algebra perspective, a Matrix can represent one of the two:\n",
    "1. **Systems of Linear Equations** - Matrix operations can be used to represent a set of linear equations. This helps us solve the equations, define inverse of matrices.\n",
    "2. **Linear Mapping** - Matrices can be used to define Linear Mappings. Linear mapping define transformation actions that can be performed on Vectors.  Examples of Vector Transformations that fall into this bucket are: Rotation, Stretching along specific axes, change of basis\n",
    "\n",
    "### Matrix Decomposition\n",
    "\n",
    "Let us take an example of a Matrix that represents a set of Vectors - i.e . Data. Let us assume that the Data consists of rows - which represents users, and columns which represents products that they have purchased. So we have a user-product matrix.\n",
    "The matrix maps each user to each product. If a user Ui has purchased product Vj then the cell ij will contain the number of items purchased. If a user has never purchased a product, then the corresponding cell will have a 0. Please note that at this stage, we just have Sales Data arranged in a certain way (in the form of matrix). This does not give any additional information. ***So how do we break it down into chunks of comprehendable pieces? Enter Factorization!***\n",
    "\n",
    "#### Concept of Matrix Factorization\n",
    "Suppose you had a number - say 28, and you want to understand it better. What do you do? You can say 28 is 7 times 4, which is 7 times 2 times 2 (7 x 2 x 2). This tells us that 7 and 2 are latent in the number 28. What happens if we apply factorization to Matrices? By extending the logic, we must be able to understand the latent factors of matrices. The process of decomposing a matrix into certain factors of interpretable matrices is known as Matrix Factorization or Matrix Decomposition\n",
    "\n",
    "#### Matrix Decomposition Methods\n",
    "There are two ways to decompose matrices - ***Eigen Decomposition, Singular Value Decomposition***. Both methodologies are similar. The fundamental difference is that Eigen decomposition can only be done on square matrices. Whereas Singular Value Decomposition can be done on any matrix and is generic in a sense.\n",
    "Regardless, at the core of Matrix Decomposition method is identifying values that capture key information about the parent matrix.\n",
    "\n",
    "##### Eigen Decomposition\n",
    "Let\n",
    "$ \n",
    "A = \n",
    "\\begin{pmatrix}\n",
    "1 & 2 & 3\\\\\n",
    "3 & 2 & 7\\\\\n",
    "6 & 5 & 4\n",
    "\\end{pmatrix}\n",
    "$\n",
    "\n",
    "\n",
    "A Square matrix can be decomposed into Eigen values and Eigen vectors as follows\n",
    "* Let $X1, X2, X3.. Xn$ be Eigen Vectors of a matrix A, such that $AX1 = L1X1, AX2 = LX2, ..AXn = LXn,$ where L1, L2, L3,..Ln are Eigen values\n",
    "* Then Matrix $P = [X1, X2, X3... Xn]$ arranged in a columnar fashion, D = Diagonal matrix of $[L1, L2, .. Ln]$,  $P^-1$ - inverse of P\n",
    "* P is matrix of eigen vectors, D is eigenvalues arranged in a diagonal matrix, and $P^-1$ is inverse of matrix of eigen vectors\n",
    "* It can be Mathematically proven that $A = P .D .P^-1$ (Dot products)\n",
    "*  Eigen values and Eigen vectors capture information about a matrix. The first eigen vector and first eigen value captures highest information about the matrix. Similarly, second eigen vector and second eigen value captures 2nd highest  information so on...\n",
    "* This technique is useful in dimensional reduction/compression\n",
    "\n",
    "Post Eigen decomposition of A, we have the following\n",
    "\n",
    "$\n",
    "P=\n",
    "\\begin{pmatrix}\n",
    "-0.32703016 & -0.56731925 & -0.05408783\\\\\n",
    "-0.63306085 &  0.81351676 & -0.7949926\\\\\n",
    "-0.70163042 & -0.12782546 &  0.60420301\n",
    "\\end{pmatrix}\n",
    "$\n",
    "\n",
    "$\n",
    "D =\n",
    "\\begin{pmatrix}\n",
    "11.30795739 & 0 & 0\\\\\n",
    "0 &  -1.19198827 & 0\\\\\n",
    "0 & 0 &  -3.11596912\n",
    "\\end{pmatrix}\n",
    "$\n",
    "\n",
    "$\n",
    "P^-1 =\n",
    "\\begin{pmatrix}\n",
    "-0.56004896 & -0.50227981 & -0.71102023\\\\\n",
    "-1.35059073 &  0.33832307 &  0.32425164 \\\\\n",
    "-0.93608812 & -0.51169638 &  0.8979998\n",
    "\\end{pmatrix}\n",
    "$\n",
    "\n",
    "An illustration of Eigen Values and Eigen Vectors in action - Google Page Rank Algorithm. \n",
    "\n",
    "Here is the URL to the page\n",
    "http://pi.math.cornell.edu/~mec/Winter2009/RalucaRemus/Lecture3/lecture3.html\n"
   ]
  },
  {
   "cell_type": "code",
   "execution_count": 1,
   "id": "cubic-meter",
   "metadata": {},
   "outputs": [],
   "source": [
    "import numpy as np\n",
    "import pandas as pd"
   ]
  },
  {
   "cell_type": "code",
   "execution_count": 3,
   "id": "quarterly-colony",
   "metadata": {},
   "outputs": [
    {
     "data": {
      "text/plain": [
       "(3, 3)"
      ]
     },
     "execution_count": 3,
     "metadata": {},
     "output_type": "execute_result"
    }
   ],
   "source": [
    "A = np.array([[1,2,3],[3,2,7],[6,5,4]])\n",
    "A.shape"
   ]
  },
  {
   "cell_type": "code",
   "execution_count": 5,
   "id": "qualified-intake",
   "metadata": {},
   "outputs": [],
   "source": [
    "D,P = np.linalg.eig(A)"
   ]
  },
  {
   "cell_type": "code",
   "execution_count": 8,
   "id": "incorporated-elements",
   "metadata": {},
   "outputs": [
    {
     "data": {
      "text/plain": [
       "array([[-0.32703016, -0.56731925, -0.05408783],\n",
       "       [-0.63306085,  0.81351676, -0.7949926 ],\n",
       "       [-0.70163042, -0.12782546,  0.60420301]])"
      ]
     },
     "execution_count": 8,
     "metadata": {},
     "output_type": "execute_result"
    }
   ],
   "source": [
    "P"
   ]
  },
  {
   "cell_type": "code",
   "execution_count": 10,
   "id": "shared-angola",
   "metadata": {},
   "outputs": [],
   "source": [
    "P_inv = np.linalg.inv(P)"
   ]
  },
  {
   "cell_type": "code",
   "execution_count": 11,
   "id": "occupational-perfume",
   "metadata": {},
   "outputs": [
    {
     "data": {
      "text/plain": [
       "array([[-0.56004896, -0.50227981, -0.71102023],\n",
       "       [-1.35059073,  0.33832307,  0.32425164],\n",
       "       [-0.93608812, -0.51169638,  0.89799982]])"
      ]
     },
     "execution_count": 11,
     "metadata": {},
     "output_type": "execute_result"
    }
   ],
   "source": [
    "P_inv"
   ]
  },
  {
   "cell_type": "code",
   "execution_count": 12,
   "id": "compound-frost",
   "metadata": {},
   "outputs": [
    {
     "data": {
      "text/plain": [
       "array([11.30795739, -1.19198827, -3.11596912])"
      ]
     },
     "execution_count": 12,
     "metadata": {},
     "output_type": "execute_result"
    }
   ],
   "source": [
    "D"
   ]
  },
  {
   "attachments": {},
   "cell_type": "markdown",
   "id": "falling-listening",
   "metadata": {},
   "source": [
    "Okay, Eigen decomposition  works when  the matrix is a square matrix. But in most real-life scenarios, the matrices are not square. Therefore, Eigen decomposition is not useful in many cases. So, what do we decompose non-square matrices?  Singular Vector Decomposition is the answer to this problem.\n",
    "\n",
    "Any $A_{mxn}$ Matrix can be decomposed as\n",
    "\n",
    "$A_{mxn} = U_{mxm}. S_{mxn}. V^T_{nxn}$\n",
    "\n",
    "Where\n",
    "- S - Singular matrix which is a diagonal matrix\n",
    "- U - Left Singular matrix\n",
    "- $V^T$ - Right Singular matrix\n",
    "\n",
    "The diagonal values in Matrix S is called Singular Matrix and the Singular values arranged in the descending order from top-left\n",
    "\n",
    "SVD is used in a number of ways in Machine learning including solving systems of linear equations, curve fitting etc. Substituting a matrix with its SVD approximation reduces calculation as well as loss.\n",
    "Here, we describe how this is achieved\n",
    "Let A be a user item matrix (4 users and 5 items) as shown below. The Values in the table describe the quantities purchased\n",
    "\n",
    "Let us see SVD in action through an Example\n",
    "\n",
    "Let A be a user item matrix (4 users and 5 items) as shown below. The Values in the table describe the quantities purchased\n",
    "\n",
    "Cat/User| U1  | U2 | U3 | U4 | \n",
    "-------| ---- | -----|------|-----|\n",
    "**Formal_Shirt** | 2  | 0 | 3 | 4 |\n",
    "**Trouser** | 1  | 0 | 2  | 2 |\n",
    "**T_shirt** | 1 | 2 | 0 | 1 |\n",
    "**Jeans** | 1 | 2 | 0 | 0 |\n",
    "**Blazer** | 0 | 0 | 1 | 1|\n",
    "\n",
    "\n",
    "Let us get started with Decomposition\n",
    "\n",
    "$ \n",
    "A = \n",
    "\\begin{pmatrix}\n",
    "2 & 0 & 3 & 4\\\\\n",
    "1 & 0 & 2 & 2\\\\\n",
    "1 & 2 & 0 & 1\\\\\n",
    "1 & 2 & 0 & 0\\\\\n",
    "0 & 0 & 1 & 1\\\\\n",
    "\\end{pmatrix}\n",
    "$\n",
    "\n",
    "SVD Decomposition results in the following matrices\n",
    "\n",
    "$\n",
    "U=\n",
    "\\begin{pmatrix}\n",
    "0.83572573  & -0.14515127 & -0.29646439  & 0.26000475  & 0.35355339\\\\\n",
    "-0.46197483  & -0.11449508  & 0.52286834  & 0.00887863 & -0.70710678\\\\\n",
    "-0.19999168  & 0.67730305 & -0.50049805 & -0.35463447 & -0.35355339\\\\\n",
    "-0.08661448  & 0.70353837  & 0.55121115  & 0.26210298  & 0.35355339\\\\\n",
    "-0.20160113  & -0.11007421  & 0.29049188 & -0.85898494  & 0.35355339\n",
    "\\end{pmatrix}\n",
    "$\n",
    "\n",
    "$\n",
    "S=\n",
    "\\begin{pmatrix}\n",
    "6.41687031 & 0 & 0 & 0\\\\\n",
    "0 & 3.03943637 & 0 & 0\\\\ \n",
    "0 & 0 & 0.57698562 & 0\\\\\n",
    "0 & 0 & 0 & 0.5026824 \\\\\n",
    "0 & 0 & 0 & 0\n",
    "\\end{pmatrix}\n",
    "$\n",
    "\n",
    "$\n",
    "V^T =\n",
    "\\begin{pmatrix}\n",
    "-0.37713595 & -0.08932896 & -0.56612146 & -0.72752684\\\\\n",
    "0.32112657 &  0.90861676 & -0.25482297 & -0.07974058\\\\\n",
    "-0.03353176 &  0.17578633 &  0.77443073 & -0.60682109\\\\\n",
    "0.86805635 & -0.3681509 & -0.12177355 & -0.31002306\n",
    "\\end{pmatrix}\n",
    "$\n",
    "\n",
    "Let us calculate the first low rank matrix (Reconstructing)\n",
    "\n",
    "$U_1.S_1.V_1^T$\n",
    "\n",
    "$\n",
    "Rank 1 =\n",
    "\\begin{pmatrix}\n",
    "2.022483 & 0.479048 & 3.035964 & 3.901540\\\\\n",
    "1.117994 & 0.264810 & 1.678229 & 2.156704\\\\\n",
    "0.483986 & 0.114638 & 0.726515 & 0.933650\\\\\n",
    "0.209610 & 0.049648 & 0.314647 & 0.404355\\\\\n",
    "0.487881 & 0.115560 & 0.732362 & 0.941164\n",
    "\\end{pmatrix}\n",
    "$\n",
    "\n",
    "\n",
    "If you add $U_2.S_2.V_2^T$to Rank 1 approximation then we get Rank 2 Matrix\n",
    "\n",
    "$\n",
    "Rank 2=\n",
    "\\begin{pmatrix}\n",
    "1.880809 & 0.078187 & 3.148387 & 3.936720\\\\\n",
    "1.006242 & -0.051389 & 1.766907 & 2.184454\\\\\n",
    "1.145064 & 1.985134 & 0.201932 & 0.769495\\\\\n",
    "0.896294 & 1.992598 & -0.230256 & 0.233841\\\\\n",
    "0.380444 & -0.188430 & 0.817617 & 0.967842\n",
    "\\end{pmatrix}\n",
    "$\n",
    "\n",
    "\n",
    "This is already close to the original matrix. Rank, 3 and 4 will of course add more information to it. However, from computation perspective, it is much easier to multiply 5x2, 2x2, and 2x4 matrices than trying to crunch the original 5x4 matrix\n",
    "\n",
    "How does this reduce computation?\n",
    "Note that a matrix of Size mxn  is replaced with a smaller matrices of mxp, pxn- where p is rank of the singular matrix. P can also be seen as the number of latent factors\n",
    "\n",
    "In our example we saw 5x4 matrix being replaced with one 5x2 matrix and another 2x4 matrix in addition to two real numbers. In real-life situations, matrices of several thousands of rows and columns can be reduced to ones with few hundreds. Storing such matrices require less memory and information is retained as well.\n",
    "\n",
    "The Rank P approximation can also be related to the number of latent factors. In fact, the Rank P is also equal to the number of latent factors. Let us delve a little deeper into the example we have taken.\n",
    "\n",
    "In Matrix U above, the first cell of the first column (-0.83) indicates that **formal_shirt** is unique and has its own factor. Similarly, the 3rd and 4th cell in the second column are close to each other and have relatively large values. These values correspond to Jeans and T-Shirts. **This indicates that Jeans and T-Shirts are part of same cluster (most likely casual clothing).** The other columns, even though giving some information about how products might be related, are not significant because the singular values are much lower.\n",
    "\n",
    "Similarly in Matrix $V^T$ Users 3,4 are close to each other in their tastes (Some one that buys formals and casuals) as shown in the third and fourth cells of 1st row. User 2 is unique in his taste and hence has a value of 0.90 and no other users are close to this user as indicated in 2nd cell of Row 2 in the Matrix. The last two rows, although, giving some information about the users, are not significant because the singluar values are much lower than the first two\n",
    "\n",
    "Matrix factorization methods are extensively used in several use cases\n",
    "1. Clustering\n",
    "2. Dimensionality Reduction\n",
    "3. Product Recommendations\n",
    "\n",
    "to name a few."
   ]
  },
  {
   "cell_type": "code",
   "execution_count": 18,
   "id": "typical-traffic",
   "metadata": {},
   "outputs": [],
   "source": [
    "A = np.array([[2,0,3,4],[1,0,2,2],[1,2,0,1],[1,2,0,0],[0,0,1,1]])"
   ]
  },
  {
   "cell_type": "code",
   "execution_count": 3,
   "id": "fossil-objective",
   "metadata": {},
   "outputs": [
    {
     "data": {
      "text/plain": [
       "(5, 4)"
      ]
     },
     "execution_count": 3,
     "metadata": {},
     "output_type": "execute_result"
    }
   ],
   "source": [
    "A.shape"
   ]
  },
  {
   "cell_type": "code",
   "execution_count": 4,
   "id": "involved-berkeley",
   "metadata": {},
   "outputs": [],
   "source": [
    "\n",
    "U,S,VT = np.linalg.svd(A)"
   ]
  },
  {
   "cell_type": "code",
   "execution_count": 5,
   "id": "assumed-trial",
   "metadata": {},
   "outputs": [
    {
     "data": {
      "text/plain": [
       "array([6.41687031, 3.03943637, 0.57698562, 0.5026824 ])"
      ]
     },
     "execution_count": 5,
     "metadata": {},
     "output_type": "execute_result"
    }
   ],
   "source": [
    "S"
   ]
  },
  {
   "cell_type": "code",
   "execution_count": 6,
   "id": "demonstrated-running",
   "metadata": {},
   "outputs": [
    {
     "data": {
      "text/plain": [
       "array([[-0.83572573, -0.14515127, -0.29646439,  0.26000475,  0.35355339],\n",
       "       [-0.46197483, -0.11449508,  0.52286834,  0.00887863, -0.70710678],\n",
       "       [-0.19999168,  0.67730305, -0.50049805, -0.35463447, -0.35355339],\n",
       "       [-0.08661448,  0.70353837,  0.55121115,  0.26210298,  0.35355339],\n",
       "       [-0.20160113, -0.11007421,  0.29049188, -0.85898494,  0.35355339]])"
      ]
     },
     "execution_count": 6,
     "metadata": {},
     "output_type": "execute_result"
    }
   ],
   "source": [
    "U"
   ]
  },
  {
   "cell_type": "code",
   "execution_count": 7,
   "id": "antique-execution",
   "metadata": {},
   "outputs": [],
   "source": [
    "U_df = pd.DataFrame(U)"
   ]
  },
  {
   "cell_type": "code",
   "execution_count": 8,
   "id": "charitable-cooper",
   "metadata": {},
   "outputs": [
    {
     "data": {
      "text/html": [
       "<div>\n",
       "<style scoped>\n",
       "    .dataframe tbody tr th:only-of-type {\n",
       "        vertical-align: middle;\n",
       "    }\n",
       "\n",
       "    .dataframe tbody tr th {\n",
       "        vertical-align: top;\n",
       "    }\n",
       "\n",
       "    .dataframe thead th {\n",
       "        text-align: right;\n",
       "    }\n",
       "</style>\n",
       "<table border=\"1\" class=\"dataframe\">\n",
       "  <thead>\n",
       "    <tr style=\"text-align: right;\">\n",
       "      <th></th>\n",
       "      <th>0</th>\n",
       "      <th>1</th>\n",
       "      <th>2</th>\n",
       "      <th>3</th>\n",
       "      <th>4</th>\n",
       "    </tr>\n",
       "  </thead>\n",
       "  <tbody>\n",
       "    <tr>\n",
       "      <th>0</th>\n",
       "      <td>-0.835726</td>\n",
       "      <td>-0.145151</td>\n",
       "      <td>-0.296464</td>\n",
       "      <td>0.260005</td>\n",
       "      <td>0.353553</td>\n",
       "    </tr>\n",
       "    <tr>\n",
       "      <th>1</th>\n",
       "      <td>-0.461975</td>\n",
       "      <td>-0.114495</td>\n",
       "      <td>0.522868</td>\n",
       "      <td>0.008879</td>\n",
       "      <td>-0.707107</td>\n",
       "    </tr>\n",
       "    <tr>\n",
       "      <th>2</th>\n",
       "      <td>-0.199992</td>\n",
       "      <td>0.677303</td>\n",
       "      <td>-0.500498</td>\n",
       "      <td>-0.354634</td>\n",
       "      <td>-0.353553</td>\n",
       "    </tr>\n",
       "    <tr>\n",
       "      <th>3</th>\n",
       "      <td>-0.086614</td>\n",
       "      <td>0.703538</td>\n",
       "      <td>0.551211</td>\n",
       "      <td>0.262103</td>\n",
       "      <td>0.353553</td>\n",
       "    </tr>\n",
       "    <tr>\n",
       "      <th>4</th>\n",
       "      <td>-0.201601</td>\n",
       "      <td>-0.110074</td>\n",
       "      <td>0.290492</td>\n",
       "      <td>-0.858985</td>\n",
       "      <td>0.353553</td>\n",
       "    </tr>\n",
       "  </tbody>\n",
       "</table>\n",
       "</div>"
      ],
      "text/plain": [
       "          0         1         2         3         4\n",
       "0 -0.835726 -0.145151 -0.296464  0.260005  0.353553\n",
       "1 -0.461975 -0.114495  0.522868  0.008879 -0.707107\n",
       "2 -0.199992  0.677303 -0.500498 -0.354634 -0.353553\n",
       "3 -0.086614  0.703538  0.551211  0.262103  0.353553\n",
       "4 -0.201601 -0.110074  0.290492 -0.858985  0.353553"
      ]
     },
     "execution_count": 8,
     "metadata": {},
     "output_type": "execute_result"
    }
   ],
   "source": [
    "U_df"
   ]
  },
  {
   "cell_type": "code",
   "execution_count": 9,
   "id": "satisfactory-exhaust",
   "metadata": {},
   "outputs": [
    {
     "data": {
      "text/plain": [
       "array([6.41687031, 3.03943637, 0.57698562, 0.5026824 ])"
      ]
     },
     "execution_count": 9,
     "metadata": {},
     "output_type": "execute_result"
    }
   ],
   "source": [
    "S"
   ]
  },
  {
   "cell_type": "code",
   "execution_count": 10,
   "id": "logical-skiing",
   "metadata": {},
   "outputs": [
    {
     "data": {
      "text/plain": [
       "array([[-0.37713595, -0.08932896, -0.56612146, -0.72752684],\n",
       "       [ 0.32112657,  0.90861676, -0.25482297, -0.07974058],\n",
       "       [-0.03353176,  0.17578633,  0.77443073, -0.60682109],\n",
       "       [ 0.86805635, -0.3681509 , -0.12177355, -0.31002306]])"
      ]
     },
     "execution_count": 10,
     "metadata": {},
     "output_type": "execute_result"
    }
   ],
   "source": [
    "VT"
   ]
  },
  {
   "cell_type": "code",
   "execution_count": 11,
   "id": "naughty-illinois",
   "metadata": {},
   "outputs": [],
   "source": [
    "VT_df = pd.DataFrame(VT)"
   ]
  },
  {
   "cell_type": "code",
   "execution_count": 12,
   "id": "central-model",
   "metadata": {},
   "outputs": [
    {
     "data": {
      "text/html": [
       "<div>\n",
       "<style scoped>\n",
       "    .dataframe tbody tr th:only-of-type {\n",
       "        vertical-align: middle;\n",
       "    }\n",
       "\n",
       "    .dataframe tbody tr th {\n",
       "        vertical-align: top;\n",
       "    }\n",
       "\n",
       "    .dataframe thead th {\n",
       "        text-align: right;\n",
       "    }\n",
       "</style>\n",
       "<table border=\"1\" class=\"dataframe\">\n",
       "  <thead>\n",
       "    <tr style=\"text-align: right;\">\n",
       "      <th></th>\n",
       "      <th>0</th>\n",
       "      <th>1</th>\n",
       "      <th>2</th>\n",
       "      <th>3</th>\n",
       "    </tr>\n",
       "  </thead>\n",
       "  <tbody>\n",
       "    <tr>\n",
       "      <th>0</th>\n",
       "      <td>-0.377136</td>\n",
       "      <td>-0.089329</td>\n",
       "      <td>-0.566121</td>\n",
       "      <td>-0.727527</td>\n",
       "    </tr>\n",
       "    <tr>\n",
       "      <th>1</th>\n",
       "      <td>0.321127</td>\n",
       "      <td>0.908617</td>\n",
       "      <td>-0.254823</td>\n",
       "      <td>-0.079741</td>\n",
       "    </tr>\n",
       "    <tr>\n",
       "      <th>2</th>\n",
       "      <td>-0.033532</td>\n",
       "      <td>0.175786</td>\n",
       "      <td>0.774431</td>\n",
       "      <td>-0.606821</td>\n",
       "    </tr>\n",
       "    <tr>\n",
       "      <th>3</th>\n",
       "      <td>0.868056</td>\n",
       "      <td>-0.368151</td>\n",
       "      <td>-0.121774</td>\n",
       "      <td>-0.310023</td>\n",
       "    </tr>\n",
       "  </tbody>\n",
       "</table>\n",
       "</div>"
      ],
      "text/plain": [
       "          0         1         2         3\n",
       "0 -0.377136 -0.089329 -0.566121 -0.727527\n",
       "1  0.321127  0.908617 -0.254823 -0.079741\n",
       "2 -0.033532  0.175786  0.774431 -0.606821\n",
       "3  0.868056 -0.368151 -0.121774 -0.310023"
      ]
     },
     "execution_count": 12,
     "metadata": {},
     "output_type": "execute_result"
    }
   ],
   "source": [
    "VT_df"
   ]
  },
  {
   "cell_type": "code",
   "execution_count": 17,
   "id": "gentle-timber",
   "metadata": {},
   "outputs": [
    {
     "name": "stdout",
     "output_type": "stream",
     "text": [
      "\n",
      " rank  1 \n",
      "\n",
      "     0    1    2    3\n",
      "0  2.0  0.5  3.0  3.9\n",
      "1  1.1  0.3  1.7  2.2\n",
      "2  0.5  0.1  0.7  0.9\n",
      "3  0.2  0.0  0.3  0.4\n",
      "4  0.5  0.1  0.7  0.9\n",
      "\n",
      " rank  2 \n",
      "\n",
      "     0    1    2    3\n",
      "0  1.9  0.1  3.1  3.9\n",
      "1  1.0 -0.1  1.8  2.2\n",
      "2  1.1  2.0  0.2  0.8\n",
      "3  0.9  2.0 -0.2  0.2\n",
      "4  0.4 -0.2  0.8  1.0\n",
      "\n",
      " rank  3 \n",
      "\n",
      "     0    1    2    3\n",
      "0  1.9  0.0  3.0  4.0\n",
      "1  1.0  0.0  2.0  2.0\n",
      "2  1.2  1.9 -0.0  0.9\n",
      "3  0.9  2.0  0.0  0.0\n",
      "4  0.4 -0.2  0.9  0.9\n",
      "\n",
      " rank  4 \n",
      "\n",
      "     0    1    2    3\n",
      "0  2.0  0.0  3.0  4.0\n",
      "1  1.0 -0.0  2.0  2.0\n",
      "2  1.0  2.0  0.0  1.0\n",
      "3  1.0  2.0 -0.0  0.0\n",
      "4  0.0  0.0  1.0  1.0\n"
     ]
    }
   ],
   "source": [
    "comps = [1,2,3,4,5]\n",
    "\n",
    "for i in range(4):\n",
    "        low_rank = U[:, :comps[i]] @ np.diag(S[:comps[i]]) @ VT[:comps[i], :]\n",
    "        low_rank_df = pd.DataFrame(low_rank).round(1)\n",
    "        print(\"\\n rank  %d \\n\" % comps[i])\n",
    "        print(low_rank_df)\n",
    "       "
   ]
  },
  {
   "cell_type": "code",
   "execution_count": null,
   "id": "silver-behalf",
   "metadata": {},
   "outputs": [],
   "source": []
  }
 ],
 "metadata": {
  "kernelspec": {
   "display_name": "Python 3",
   "language": "python",
   "name": "python3"
  },
  "language_info": {
   "codemirror_mode": {
    "name": "ipython",
    "version": 3
   },
   "file_extension": ".py",
   "mimetype": "text/x-python",
   "name": "python",
   "nbconvert_exporter": "python",
   "pygments_lexer": "ipython3",
   "version": "3.8.8"
  }
 },
 "nbformat": 4,
 "nbformat_minor": 5
}
